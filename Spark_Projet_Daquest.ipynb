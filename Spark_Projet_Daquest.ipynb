{
  "nbformat": 4,
  "nbformat_minor": 0,
  "metadata": {
    "colab": {
      "provenance": []
    },
    "kernelspec": {
      "name": "python3",
      "display_name": "Python 3"
    },
    "language_info": {
      "name": "python"
    }
  },
  "cells": [
    {
      "cell_type": "code",
      "execution_count": 1,
      "metadata": {
        "colab": {
          "base_uri": "https://localhost:8080/"
        },
        "id": "XIuAi13kU_Aj",
        "outputId": "900150c0-a3de-4cce-b00d-71db75f6104a"
      },
      "outputs": [
        {
          "output_type": "stream",
          "name": "stdout",
          "text": [
            "Looking in indexes: https://pypi.org/simple, https://us-python.pkg.dev/colab-wheels/public/simple/\n",
            "Collecting pyspark\n",
            "  Downloading pyspark-3.3.1.tar.gz (281.4 MB)\n",
            "\u001b[K     |████████████████████████████████| 281.4 MB 34 kB/s \n",
            "\u001b[?25hCollecting py4j==0.10.9.5\n",
            "  Downloading py4j-0.10.9.5-py2.py3-none-any.whl (199 kB)\n",
            "\u001b[K     |████████████████████████████████| 199 kB 31.1 MB/s \n",
            "\u001b[?25hBuilding wheels for collected packages: pyspark\n",
            "  Building wheel for pyspark (setup.py) ... \u001b[?25l\u001b[?25hdone\n",
            "  Created wheel for pyspark: filename=pyspark-3.3.1-py2.py3-none-any.whl size=281845512 sha256=b55aa41bafc54febb576dd642da8d7b089a7f5fdb434f0640da3142e08cd951b\n",
            "  Stored in directory: /root/.cache/pip/wheels/43/dc/11/ec201cd671da62fa9c5cc77078235e40722170ceba231d7598\n",
            "Successfully built pyspark\n",
            "Installing collected packages: py4j, pyspark\n",
            "Successfully installed py4j-0.10.9.5 pyspark-3.3.1\n"
          ]
        }
      ],
      "source": [
        "pip install pyspark"
      ]
    },
    {
      "cell_type": "markdown",
      "source": [
        "## Import the libraries"
      ],
      "metadata": {
        "id": "PCX7nTzaBuxN"
      }
    },
    {
      "cell_type": "code",
      "source": [
        "import warnings\n",
        "import matplotlib.pyplot as plt\n",
        "import seaborn as sns\n",
        "import pandas as pd\n",
        "\n",
        "import pyspark\n",
        "from pyspark.sql import functions as F\n",
        "from pyspark.sql import types\n",
        "from pyspark.sql import SparkSession\n",
        "\n",
        "from pyspark.ml.feature import Imputer, VectorAssembler, StringIndexer\n",
        "from pyspark.ml.tuning import CrossValidator, ParamGridBuilder\n",
        "from pyspark.ml.evaluation import MulticlassClassificationEvaluator\n",
        "\n",
        "\n",
        "warnings.filterwarnings('ignore')"
      ],
      "metadata": {
        "id": "9Q4zLH2RXHj7"
      },
      "execution_count": 2,
      "outputs": []
    },
    {
      "cell_type": "markdown",
      "source": [
        "# Connect to Spark server"
      ],
      "metadata": {
        "id": "jDWAVfOBBnE9"
      }
    },
    {
      "cell_type": "code",
      "source": [
        "spark = pyspark.sql.SparkSession.builder.getOrCreate()"
      ],
      "metadata": {
        "id": "rsrC1FE9XN_S"
      },
      "execution_count": 3,
      "outputs": []
    },
    {
      "cell_type": "markdown",
      "source": [
        "## Read the Dataset"
      ],
      "metadata": {
        "id": "sRwg2LZ9D0WP"
      }
    },
    {
      "cell_type": "code",
      "source": [
        "from google.colab import drive\n",
        "drive.mount('/content/drive')"
      ],
      "metadata": {
        "colab": {
          "base_uri": "https://localhost:8080/"
        },
        "id": "eSP8lz4vytXn",
        "outputId": "58b1df98-60ae-40a6-a167-327d2f603d85"
      },
      "execution_count": 4,
      "outputs": [
        {
          "output_type": "stream",
          "name": "stdout",
          "text": [
            "Mounted at /content/drive\n"
          ]
        }
      ]
    },
    {
      "cell_type": "code",
      "source": [
        "# Read the dataset\n",
        "path = '/content/drive/My Drive/Covid Data.csv'\n",
        "\n",
        "data = spark.read.csv(path)"
      ],
      "metadata": {
        "id": "CuZvnG-qXUEp"
      },
      "execution_count": 5,
      "outputs": []
    },
    {
      "cell_type": "code",
      "source": [
        "data"
      ],
      "metadata": {
        "colab": {
          "base_uri": "https://localhost:8080/"
        },
        "id": "fmOGynWYXklK",
        "outputId": "f3459d19-1ac7-4526-85a9-53f82744419e"
      },
      "execution_count": 6,
      "outputs": [
        {
          "output_type": "execute_result",
          "data": {
            "text/plain": [
              "DataFrame[_c0: string, _c1: string, _c2: string, _c3: string, _c4: string, _c5: string, _c6: string, _c7: string, _c8: string, _c9: string, _c10: string, _c11: string, _c12: string, _c13: string, _c14: string, _c15: string, _c16: string, _c17: string, _c18: string, _c19: string, _c20: string]"
            ]
          },
          "metadata": {},
          "execution_count": 6
        }
      ]
    },
    {
      "cell_type": "markdown",
      "source": [
        "## Read The columns"
      ],
      "metadata": {
        "id": "s6cPh1aeEmIN"
      }
    },
    {
      "cell_type": "code",
      "source": [
        "# read the columns and the datatype of each column\n",
        "data = spark.read.csv(path,\n",
        "                     sep=',',\n",
        "                     inferSchema=True,\n",
        "                     header=True,\n",
        "                     multiLine=True)\n",
        "\n",
        "data.printSchema()"
      ],
      "metadata": {
        "colab": {
          "base_uri": "https://localhost:8080/"
        },
        "id": "E7RSHZ86ancU",
        "outputId": "477b046f-dab2-4cae-fe45-6e5d19cfe4a2"
      },
      "execution_count": 7,
      "outputs": [
        {
          "output_type": "stream",
          "name": "stdout",
          "text": [
            "root\n",
            " |-- USMER: integer (nullable = true)\n",
            " |-- MEDICAL_UNIT: integer (nullable = true)\n",
            " |-- SEX: integer (nullable = true)\n",
            " |-- PATIENT_TYPE: integer (nullable = true)\n",
            " |-- DATE_DIED: string (nullable = true)\n",
            " |-- INTUBED: integer (nullable = true)\n",
            " |-- PNEUMONIA: integer (nullable = true)\n",
            " |-- AGE: integer (nullable = true)\n",
            " |-- PREGNANT: integer (nullable = true)\n",
            " |-- DIABETES: integer (nullable = true)\n",
            " |-- COPD: integer (nullable = true)\n",
            " |-- ASTHMA: integer (nullable = true)\n",
            " |-- INMSUPR: integer (nullable = true)\n",
            " |-- HIPERTENSION: integer (nullable = true)\n",
            " |-- OTHER_DISEASE: integer (nullable = true)\n",
            " |-- CARDIOVASCULAR: integer (nullable = true)\n",
            " |-- OBESITY: integer (nullable = true)\n",
            " |-- RENAL_CHRONIC: integer (nullable = true)\n",
            " |-- TOBACCO: integer (nullable = true)\n",
            " |-- CLASIFFICATION_FINAL: integer (nullable = true)\n",
            " |-- ICU: integer (nullable = true)\n",
            "\n"
          ]
        }
      ]
    },
    {
      "cell_type": "markdown",
      "source": [
        "## Data Preprocessing"
      ],
      "metadata": {
        "id": "0gE9H9NsFRZy"
      }
    },
    {
      "cell_type": "code",
      "source": [
        "#replace the value 1,2,3 by 1 and 4,5,6,7 by 0 (Values 1-3 mean that the patient was diagnosed with covid in different degrees, \n",
        "#4 or higher means that the patient is not a carrier of covid or that the test is inconclusive)\n",
        " \n",
        "data = data.replace([1,2,3], 1, subset=['CLASIFFICATION_FINAL'])\n",
        "data = data.replace([4,5,6,7], 0, subset=['CLASIFFICATION_FINAL'])"
      ],
      "metadata": {
        "id": "JLzK98V7FS-X"
      },
      "execution_count": 8,
      "outputs": []
    },
    {
      "cell_type": "markdown",
      "source": [
        "## Drop unnecessary columns"
      ],
      "metadata": {
        "id": "IJC8wZcLavxu"
      }
    },
    {
      "cell_type": "code",
      "source": [
        "# drop un unnecessary columns \n",
        "drop_col = ['USMER', 'MEDICAL_UNIT','PATIENT_TYPE','DATE_DIED']\n",
        "\n",
        "data = data.drop(*drop_col)"
      ],
      "metadata": {
        "id": "0hSakenwayh4"
      },
      "execution_count": 9,
      "outputs": []
    },
    {
      "cell_type": "code",
      "source": [
        "data.show()"
      ],
      "metadata": {
        "colab": {
          "base_uri": "https://localhost:8080/"
        },
        "id": "iWE9RYhFcpOc",
        "outputId": "5f421a2c-de94-43d2-f8f4-9ac74e14cc04"
      },
      "execution_count": 10,
      "outputs": [
        {
          "output_type": "stream",
          "name": "stdout",
          "text": [
            "+---+-------+---------+---+--------+--------+----+------+-------+------------+-------------+--------------+-------+-------------+-------+--------------------+---+\n",
            "|SEX|INTUBED|PNEUMONIA|AGE|PREGNANT|DIABETES|COPD|ASTHMA|INMSUPR|HIPERTENSION|OTHER_DISEASE|CARDIOVASCULAR|OBESITY|RENAL_CHRONIC|TOBACCO|CLASIFFICATION_FINAL|ICU|\n",
            "+---+-------+---------+---+--------+--------+----+------+-------+------------+-------------+--------------+-------+-------------+-------+--------------------+---+\n",
            "|  1|     97|        1| 65|       2|       2|   2|     2|      2|           1|            2|             2|      2|            2|      2|                   1| 97|\n",
            "|  2|     97|        1| 72|      97|       2|   2|     2|      2|           1|            2|             2|      1|            1|      2|                   0| 97|\n",
            "|  2|      1|        2| 55|      97|       1|   2|     2|      2|           2|            2|             2|      2|            2|      2|                   1|  2|\n",
            "|  1|     97|        2| 53|       2|       2|   2|     2|      2|           2|            2|             2|      2|            2|      2|                   0| 97|\n",
            "|  2|     97|        2| 68|      97|       1|   2|     2|      2|           1|            2|             2|      2|            2|      2|                   1| 97|\n",
            "|  1|      2|        1| 40|       2|       2|   2|     2|      2|           2|            2|             2|      2|            2|      2|                   1|  2|\n",
            "|  1|     97|        2| 64|       2|       2|   2|     2|      2|           2|            2|             2|      2|            2|      2|                   1| 97|\n",
            "|  1|     97|        1| 64|       2|       1|   2|     2|      1|           1|            2|             2|      2|            1|      2|                   1| 97|\n",
            "|  1|      2|        2| 37|       2|       1|   2|     2|      2|           1|            2|             2|      1|            2|      2|                   1|  2|\n",
            "|  1|      2|        2| 25|       2|       2|   2|     2|      2|           2|            2|             2|      2|            2|      2|                   1|  2|\n",
            "|  1|     97|        2| 38|       2|       2|   2|     2|      2|           2|            2|             2|      2|            2|      2|                   1| 97|\n",
            "|  2|      2|        2| 24|      97|       2|   2|     2|      2|           2|            2|             2|      2|            2|      2|                   1|  2|\n",
            "|  2|      2|        2| 30|      97|       2|   2|     2|      2|           2|            2|             2|      2|            2|      2|                   1|  2|\n",
            "|  2|     97|        2| 55|      97|       2|   2|     2|      2|           2|            2|             2|      2|            2|      2|                   1| 97|\n",
            "|  1|     97|        2| 48|       2|       1|   2|     2|      2|           2|            2|             2|      2|            2|      2|                   1| 97|\n",
            "|  1|     97|        2| 23|       2|       2|   2|     2|      2|           2|            2|             2|      2|            2|      2|                   1| 97|\n",
            "|  1|      2|        1| 80|       2|       2|   2|     2|      2|           1|            2|             2|      2|            2|      2|                   1|  1|\n",
            "|  2|     97|        2| 61|      97|       2|   2|     2|      2|           2|            2|             2|      2|            2|      2|                   1| 97|\n",
            "|  2|     97|        2| 54|      97|       2|   2|     2|      2|           2|            2|             2|      2|            2|      2|                   1| 97|\n",
            "|  1|     97|        2| 64|       2|       2|   2|     2|      2|           2|            2|             2|      2|            2|      2|                   1| 97|\n",
            "+---+-------+---------+---+--------+--------+----+------+-------+------------+-------------+--------------+-------+-------------+-------+--------------------+---+\n",
            "only showing top 20 rows\n",
            "\n"
          ]
        }
      ]
    },
    {
      "cell_type": "markdown",
      "source": [
        "## Cleaning Data"
      ],
      "metadata": {
        "id": "39HkcO-zGyUp"
      }
    },
    {
      "cell_type": "code",
      "source": [
        "# check the null value\n",
        "\n",
        "from pyspark.sql.functions import col,isnan, when, count\n",
        "data.select([count(when(isnan(c) | col(c).isNull(), c)).alias(c) for c in data.columns]\n",
        "   ).show()"
      ],
      "metadata": {
        "colab": {
          "base_uri": "https://localhost:8080/"
        },
        "id": "BAgdNHVkdEdE",
        "outputId": "3674b6cd-896a-49eb-eacc-90ec518caa48"
      },
      "execution_count": 11,
      "outputs": [
        {
          "output_type": "stream",
          "name": "stdout",
          "text": [
            "+---+-------+---------+---+--------+--------+----+------+-------+------------+-------------+--------------+-------+-------------+-------+--------------------+---+\n",
            "|SEX|INTUBED|PNEUMONIA|AGE|PREGNANT|DIABETES|COPD|ASTHMA|INMSUPR|HIPERTENSION|OTHER_DISEASE|CARDIOVASCULAR|OBESITY|RENAL_CHRONIC|TOBACCO|CLASIFFICATION_FINAL|ICU|\n",
            "+---+-------+---------+---+--------+--------+----+------+-------+------------+-------------+--------------+-------+-------------+-------+--------------------+---+\n",
            "|  0|      0|        0|  0|       0|       0|   0|     0|      0|           0|            0|             0|      0|            0|      0|                   0|  0|\n",
            "+---+-------+---------+---+--------+--------+----+------+-------+------------+-------------+--------------+-------+-------------+-------+--------------------+---+\n",
            "\n"
          ]
        }
      ]
    },
    {
      "cell_type": "markdown",
      "source": [
        "#### we didn't have any null value . So we can go to the next step"
      ],
      "metadata": {
        "id": "g__sRk4zG8pb"
      }
    },
    {
      "cell_type": "markdown",
      "source": [
        "# EDA"
      ],
      "metadata": {
        "id": "hOB3ROpuyu7S"
      }
    },
    {
      "cell_type": "code",
      "source": [
        "data.registerTempTable('data')"
      ],
      "metadata": {
        "id": "b0V6JllCv5LE"
      },
      "execution_count": 12,
      "outputs": []
    },
    {
      "cell_type": "markdown",
      "source": [
        "## First Plot"
      ],
      "metadata": {
        "id": "da158ZJGqzXX"
      }
    },
    {
      "cell_type": "code",
      "source": [
        "#select the column we need in EDA\n",
        "df_result = spark.sql('SELECT CLASIFFICATION_FINAL, SEX, PREGNANT, INTUBED FROM data')\n",
        "\n",
        "#convert to pandas prior to visualization\n",
        "df_result = df_result.toPandas()"
      ],
      "metadata": {
        "id": "-zfW3kC7H-83"
      },
      "execution_count": 37,
      "outputs": []
    },
    {
      "cell_type": "code",
      "source": [
        "colors = ['#DDD3E9', '#06A9E1']\n",
        "plt.figure(figsize = (8,5))\n",
        "ax = sns.countplot(df_result.CLASIFFICATION_FINAL, palette=colors)\n",
        "\n",
        "ax.set_xlabel('diagnosed with covid or not')\n",
        "ax.set_ylabel('count')\n",
        "plt.title(\"COUNT THE NUMBER OF INFECTED, NON-INFECTED\", fontsize = 20)"
      ],
      "metadata": {
        "colab": {
          "base_uri": "https://localhost:8080/",
          "height": 373
        },
        "id": "ymVUSH_pwuFm",
        "outputId": "61c502f4-a779-4017-bc68-149298271bec"
      },
      "execution_count": 38,
      "outputs": [
        {
          "output_type": "execute_result",
          "data": {
            "text/plain": [
              "Text(0.5, 1.0, 'COUNT THE NUMBER OF INFECTED, NON-INFECTED')"
            ]
          },
          "metadata": {},
          "execution_count": 38
        },
        {
          "output_type": "display_data",
          "data": {
            "text/plain": [
              "<Figure size 576x360 with 1 Axes>"
            ],
            "image/png": "[encoded data removed]"
          },
          "metadata": {
            "needs_background": "light"
          }
        }
      ]
    },
    {
      "cell_type": "markdown",
      "source": [
        "###  The finding: in this plot want to count the classification final ( who the patient was diagnosed with covid or not ) we find  diagnosed with covid  with a value more than 350000 and others not diagnosed with a value more than 600000\n"
      ],
      "metadata": {
        "id": "tXXhEsUrelaW"
      }
    },
    {
      "cell_type": "markdown",
      "source": [
        "## Second Plot"
      ],
      "metadata": {
        "id": "I7vfP6IerA7S"
      }
    },
    {
      "cell_type": "code",
      "source": [
        "df_result = spark.sql('SELECT ASTHMA ,CLASIFFICATION_FINAL FROM data  WHERE CLASIFFICATION_FINAL IN (\"1\")')\n",
        "\n",
        "#convert to pandas prior to visualization\n",
        "df_result = df_result.toPandas()"
      ],
      "metadata": {
        "id": "YV4XL-hPy6-4"
      },
      "execution_count": 39,
      "outputs": []
    },
    {
      "cell_type": "code",
      "source": [
        "df_result_c = df_result['ASTHMA'].value_counts().nlargest(2)\n",
        "\n",
        "plt.pie(df_result_c.values, labels= ['non-asthmatic', 'Asthmatic'], colors=colors, autopct='%.0f%%', textprops={'fontsize': 10},  radius=1.5)\n",
        "\n",
        "plt.title(\"COUNT THE COVID DIAGNOSED BASED ON ASTHMA  \", fontsize = 20, y=1.1);\n",
        "plt.show()"
      ],
      "metadata": {
        "colab": {
          "base_uri": "https://localhost:8080/",
          "height": 314
        },
        "id": "PzhNC3gBzMki",
        "outputId": "e9a4dabe-0e7e-43f4-dc62-6e841830b9c4"
      },
      "execution_count": 40,
      "outputs": [
        {
          "output_type": "display_data",
          "data": {
            "text/plain": [
              "<Figure size 432x288 with 1 Axes>"
            ],
            "image/png": "[encoded data removed]"
          },
          "metadata": {}
        }
      ]
    },
    {
      "cell_type": "markdown",
      "source": [
        "### the finding : want to calculate the percentage of whether the covid patient has asthma or not , based on this plot 97 % percentage don't have asthma and 3 % percentage have asthma\n"
      ],
      "metadata": {
        "id": "vvGMGxHkzm3L"
      }
    },
    {
      "cell_type": "markdown",
      "source": [
        "## Third Plot"
      ],
      "metadata": {
        "id": "CluU87F4rOPd"
      }
    },
    {
      "cell_type": "code",
      "source": [
        "df_result = spark.sql('SELECT CLASIFFICATION_FINAL, SEX FROM data')\n",
        "\n",
        "#convert to pandas prior to visualization\n",
        "df_result = df_result.toPandas()"
      ],
      "metadata": {
        "id": "6-fDoFQyxsI5"
      },
      "execution_count": 41,
      "outputs": []
    },
    {
      "cell_type": "code",
      "source": [
        "plt.figure(figsize = (8,5))\n",
        "sns.set_context(\"notebook\", font_scale=1.25)\n",
        "gender = sns.countplot( x=df_result.CLASIFFICATION_FINAL, hue=df_result.SEX, palette=colors)\n",
        "gender.set_title(\"COUNT THE DIAGNOSED OF CIVID BASED ON SEX\", fontsize = 15)\n",
        "gender.set_xlabel('diagnosed with covid or not')\n",
        "gender.legend([\"Male\",\"Female\"],loc='upper right')"
      ],
      "metadata": {
        "colab": {
          "base_uri": "https://localhost:8080/",
          "height": 381
        },
        "id": "XnNFRDTlN_lQ",
        "outputId": "6699595a-b972-4999-b7c4-9e575f870a88"
      },
      "execution_count": 42,
      "outputs": [
        {
          "output_type": "execute_result",
          "data": {
            "text/plain": [
              "<matplotlib.legend.Legend at 0x7f57e3773310>"
            ]
          },
          "metadata": {},
          "execution_count": 42
        },
        {
          "output_type": "display_data",
          "data": {
            "text/plain": [
              "<Figure size 576x360 with 1 Axes>"
            ],
            "image/png": "[encoded data removed]"
          },
          "metadata": {
            "needs_background": "light"
          }
        }
      ]
    },
    {
      "cell_type": "markdown",
      "source": [
        "### The finding: in this plot want to count the classification final ( who the patient was diagnosed with covid or not ) based on gender we find most diagnosed with covid are Famle"
      ],
      "metadata": {
        "id": "vxQo1FSvrWP8"
      }
    },
    {
      "cell_type": "markdown",
      "source": [
        "### Fourth Plot"
      ],
      "metadata": {
        "id": "g7-1E-LyrYiE"
      }
    },
    {
      "cell_type": "code",
      "source": [
        "#select the column we need in EDA\n",
        "df_result = spark.sql('SELECT CLASIFFICATION_FINAL ,AGE  FROM data WHERE CLASIFFICATION_FINAL IN (\"1\") ')\n",
        "\n",
        "#convert to pandas prior to visualization\n",
        "df_result = df_result.toPandas()"
      ],
      "metadata": {
        "id": "V-wERjYSPStq"
      },
      "execution_count": 43,
      "outputs": []
    },
    {
      "cell_type": "code",
      "source": [
        "plt.figure(figsize = (8,5))\n",
        "sns.set_context(\"notebook\", font_scale=1.25)\n",
        "age = sns.histplot(data=df_result, x='AGE', hue='CLASIFFICATION_FINAL', binwidth=1)\n",
        "age.set_title(\"COUNT THE DIAGNOSED OF CIVID BASED ON AGE\", fontsize = 15);\n",
        "age.legend(['diagnosed with covid'],loc='upper right')"
      ],
      "metadata": {
        "colab": {
          "base_uri": "https://localhost:8080/",
          "height": 381
        },
        "id": "wPlQ2P7mP9PJ",
        "outputId": "31c1911b-a4ac-47f9-8e4e-982bcd40ccac"
      },
      "execution_count": 44,
      "outputs": [
        {
          "output_type": "execute_result",
          "data": {
            "text/plain": [
              "<matplotlib.legend.Legend at 0x7f57d7024c40>"
            ]
          },
          "metadata": {},
          "execution_count": 44
        },
        {
          "output_type": "display_data",
          "data": {
            "text/plain": [
              "<Figure size 576x360 with 1 Axes>"
            ],
            "image/png": "[encoded data removed]"
          },
          "metadata": {
            "needs_background": "light"
          }
        }
      ]
    },
    {
      "cell_type": "markdown",
      "source": [
        "###  The finding: in this plot want to know the most ages get Coved, based on this plot most ages get coved between 30 and 55 years old."
      ],
      "metadata": {
        "id": "IwcmGdKyrnkM"
      }
    },
    {
      "cell_type": "markdown",
      "source": [
        "##fifth plot"
      ],
      "metadata": {
        "id": "wTlvn2TMrrJj"
      }
    },
    {
      "cell_type": "code",
      "source": [
        "#select the column we need in EDA\n",
        "df_result = spark.sql('SELECT tobacco,CLASIFFICATION_FINAL FROM data WHERE CLASIFFICATION_FINAL IN (\"1\")')\n",
        "\n",
        "#convert to pandas prior to visualization\n",
        "df_result = df_result.toPandas()"
      ],
      "metadata": {
        "id": "k2-2SXxJQ4-2"
      },
      "execution_count": 45,
      "outputs": []
    },
    {
      "cell_type": "code",
      "source": [
        "df_result_c = df_result['tobacco'].value_counts().nlargest(2)\n",
        "\n",
        "plt.pie(df_result_c.values, labels=['non-smoker', 'Smoker'], colors=colors, autopct='%.0f%%', textprops={'fontsize': 14},  radius=1.5)\n",
        "plt.title(\"COUNT THE COVID DIAGNOSED BASED ON TOBACOO  \", fontsize = 20,  y=1.1);\n",
        "plt.show()"
      ],
      "metadata": {
        "colab": {
          "base_uri": "https://localhost:8080/",
          "height": 313
        },
        "id": "nJjrvcReQjSY",
        "outputId": "46fc7408-9f04-4d3d-91ab-27001cef4dba"
      },
      "execution_count": 46,
      "outputs": [
        {
          "output_type": "display_data",
          "data": {
            "text/plain": [
              "<Figure size 432x288 with 1 Axes>"
            ],
            "image/png": "[encoded data removed]"
          },
          "metadata": {}
        }
      ]
    },
    {
      "cell_type": "markdown",
      "source": [
        "###  The finding: in this plot want to know the most ages get Coved, based on this plot most ages get coved between 30 and 55 years old."
      ],
      "metadata": {
        "id": "I0y87uCGrzjE"
      }
    },
    {
      "cell_type": "markdown",
      "source": [
        "## Data Processing \n",
        "No need for data processing all the data columns are numbers"
      ],
      "metadata": {
        "id": "q_EFV5VG0CIE"
      }
    },
    {
      "cell_type": "markdown",
      "source": [
        "## Building a Model"
      ],
      "metadata": {
        "id": "O2lt39Fh0M_M"
      }
    },
    {
      "cell_type": "code",
      "source": [
        "# Combining Feature Columns\n",
        "cols = data.columns\n",
        "cols.remove('CLASIFFICATION_FINAL') #remove CLASIFFICATION_FINAL -> we need this to be our label\n",
        "\n",
        "assembler = VectorAssembler(inputCols=cols, outputCol='features')\n",
        "\n",
        "data = assembler.transform(data)"
      ],
      "metadata": {
        "id": "ERyGCrLJ0BP6"
      },
      "execution_count": 13,
      "outputs": []
    },
    {
      "cell_type": "code",
      "source": [
        "# splitting data into training and testing sets \n",
        "df_data = data.select(F.col('features'), F.col('CLASIFFICATION_FINAL').alias('label'))\n",
        "\n",
        "df_train, df_test = df_data.randomSplit([0.8, 0.2])"
      ],
      "metadata": {
        "id": "Xm9Sj28-0X0q"
      },
      "execution_count": 14,
      "outputs": []
    },
    {
      "cell_type": "markdown",
      "source": [
        "## Model Building"
      ],
      "metadata": {
        "id": "CuupASzO0bQm"
      }
    },
    {
      "cell_type": "markdown",
      "source": [
        "- Logistic Regression"
      ],
      "metadata": {
        "id": "6r69Jp-G0joy"
      }
    },
    {
      "cell_type": "code",
      "source": [
        "from pyspark.ml.classification import LogisticRegression\n",
        "\n",
        "# create the trainer and set its parameters\n",
        "lr = LogisticRegression(featuresCol = 'features', labelCol = 'label', maxIter=10)\n",
        "\n",
        "# train the model\n",
        "lrModel = lr.fit(df_train)"
      ],
      "metadata": {
        "id": "cGPz8lut0awD"
      },
      "execution_count": 15,
      "outputs": []
    },
    {
      "cell_type": "code",
      "source": [
        "# Make predictions.\n",
        "lrPreds = lrModel.transform(df_test)"
      ],
      "metadata": {
        "id": "wW-cKM6O0q9j"
      },
      "execution_count": 16,
      "outputs": []
    },
    {
      "cell_type": "markdown",
      "source": [
        "- Decision Tree Classifier"
      ],
      "metadata": {
        "id": "TVM1F3Ls0o2J"
      }
    },
    {
      "cell_type": "code",
      "source": [
        "from pyspark.ml.classification import DecisionTreeClassifier\n",
        "\n",
        "# create the trainer and set its parameters\n",
        "dt = DecisionTreeClassifier(featuresCol = 'features', labelCol = 'label', maxDepth = 3)\n",
        "\n",
        "# train the model\n",
        "dtModel = dt.fit(df_train)"
      ],
      "metadata": {
        "id": "kcxzKFxD0xBT"
      },
      "execution_count": 17,
      "outputs": []
    },
    {
      "cell_type": "code",
      "source": [
        "# Make predictions.\n",
        "dtPreds = dtModel.transform(df_test)"
      ],
      "metadata": {
        "id": "9rgEHZLA01Iz"
      },
      "execution_count": 18,
      "outputs": []
    },
    {
      "cell_type": "markdown",
      "source": [
        "- Random Forest Classifier"
      ],
      "metadata": {
        "id": "vH6z2Yjx06G6"
      }
    },
    {
      "cell_type": "code",
      "source": [
        "from pyspark.ml.classification import RandomForestClassifier\n",
        "\n",
        "# create the trainer and set its parameters\n",
        "rf = RandomForestClassifier(featuresCol = 'features', labelCol = 'label')\n",
        "\n",
        "# train the model\n",
        "rfModel = rf.fit(df_train)"
      ],
      "metadata": {
        "id": "OHQMlVPK09Y1"
      },
      "execution_count": 19,
      "outputs": []
    },
    {
      "cell_type": "code",
      "source": [
        "# Make predictions.\n",
        "rfPreds = rfModel.transform(df_test)"
      ],
      "metadata": {
        "id": "_7yJcCjn0_3c"
      },
      "execution_count": 20,
      "outputs": []
    },
    {
      "cell_type": "markdown",
      "source": [
        "- Gradient-Boosted Tree Classifier"
      ],
      "metadata": {
        "id": "USV7MFq11CSL"
      }
    },
    {
      "cell_type": "code",
      "source": [
        "from pyspark.ml.classification import GBTClassifier\n",
        "\n",
        "# create the trainer and set its parameters\n",
        "gbt = GBTClassifier(maxIter=10)\n",
        "\n",
        "# train the model\n",
        "gbtModel = gbt.fit(df_train)"
      ],
      "metadata": {
        "id": "RyuyqXgz1G-E"
      },
      "execution_count": 21,
      "outputs": []
    },
    {
      "cell_type": "code",
      "source": [
        "# Make predictions.\n",
        "gbtPreds = gbtModel.transform(df_test)"
      ],
      "metadata": {
        "id": "OgrvJBK81L8N"
      },
      "execution_count": 22,
      "outputs": []
    },
    {
      "cell_type": "markdown",
      "source": [
        "- NaiveBayes"
      ],
      "metadata": {
        "id": "JFLvhcmd2uTA"
      }
    },
    {
      "cell_type": "code",
      "source": [
        "from pyspark.ml.classification import NaiveBayes\n",
        "\n",
        "# create the trainer and set its parameters\n",
        "naiv = NaiveBayes(smoothing=1.0, modelType=\"multinomial\")\n",
        "\n",
        "# train the model\n",
        "naivModel = naiv.fit(df_train)"
      ],
      "metadata": {
        "id": "EJSRJQ-12ufG"
      },
      "execution_count": 23,
      "outputs": []
    },
    {
      "cell_type": "code",
      "source": [
        "# Make predictions.\n",
        "naivPreds = naivModel.transform(df_test)"
      ],
      "metadata": {
        "id": "tuufDZ683rA1"
      },
      "execution_count": 24,
      "outputs": []
    },
    {
      "cell_type": "markdown",
      "source": [
        "- Multi layer Perceptron Classifier"
      ],
      "metadata": {
        "id": "-4YzdJaf4EbS"
      }
    },
    {
      "cell_type": "code",
      "source": [
        "from pyspark.ml.classification import MultilayerPerceptronClassifier\n",
        "\n",
        "# specify layers for the neural network:\n",
        "# input layer of size 16 (features), two intermediate of size 5 and 4\n",
        "# and output of size 2 (classes)\n",
        "layers = [16, 5, 4, 2]\n",
        "\n",
        "# create the trainer and set its parameters\n",
        "perce = MultilayerPerceptronClassifier(maxIter=100, layers=layers, blockSize=128, seed=1234)\n",
        "\n",
        "# train the model\n",
        "perceModel = perce.fit(df_train)"
      ],
      "metadata": {
        "id": "8OK1TW2x4Etw"
      },
      "execution_count": 25,
      "outputs": []
    },
    {
      "cell_type": "code",
      "source": [
        "# Make predictions.\n",
        "percePreds = perceModel.transform(df_test)"
      ],
      "metadata": {
        "id": "NuFpH2We4umQ"
      },
      "execution_count": 26,
      "outputs": []
    },
    {
      "cell_type": "markdown",
      "source": [
        "- Linear Support Vector Machine"
      ],
      "metadata": {
        "id": "BUCQq7G9YZAU"
      }
    },
    {
      "cell_type": "code",
      "source": [
        "from pyspark.ml.classification import LinearSVC\n",
        "\n",
        "# create the trainer and set its parameters\n",
        "lsvc = LinearSVC(maxIter=10, regParam=0.1)\n",
        "\n",
        "# Fit the model\n",
        "lsvcModel = lsvc.fit(df_train)"
      ],
      "metadata": {
        "id": "W5jCPJXHYZO0"
      },
      "execution_count": 32,
      "outputs": []
    },
    {
      "cell_type": "code",
      "source": [
        "# Make predictions.\n",
        "lsvcPreds = lsvcModel.transform(df_test)"
      ],
      "metadata": {
        "id": "J5gu4BpCYZpH"
      },
      "execution_count": 33,
      "outputs": []
    },
    {
      "cell_type": "markdown",
      "source": [
        "## Model Evaluation "
      ],
      "metadata": {
        "id": "yRYmWwie5UL0"
      }
    },
    {
      "cell_type": "code",
      "source": [
        "from pyspark.ml.evaluation import MulticlassClassificationEvaluator\n",
        "# Accuracy Metric\n",
        "evaluator_A = MulticlassClassificationEvaluator(labelCol=\"label\", predictionCol=\"prediction\", metricName=\"accuracy\")\n",
        "\n",
        "# F1 Metric\n",
        "evaluator_F = MulticlassClassificationEvaluator(labelCol=\"label\", predictionCol=\"prediction\", metricName=\"f1\")\n",
        "\n",
        "# Weighted Precision\n",
        "evaluator_P = MulticlassClassificationEvaluator(labelCol=\"label\", predictionCol=\"prediction\", metricName=\"weightedPrecision\")\n",
        "\n",
        "# Weighted Recall\n",
        "evaluator_R = MulticlassClassificationEvaluator(labelCol=\"label\", predictionCol=\"prediction\", metricName=\"weightedRecall\")"
      ],
      "metadata": {
        "id": "w-e5a-tR_LC0"
      },
      "execution_count": 27,
      "outputs": []
    },
    {
      "cell_type": "code",
      "source": [
        "# Our models\n",
        "models = [lrPreds, dtPreds, rfPreds, gbtPreds, naivPreds, percePreds, lsvcPreds] \n",
        "\n",
        "# Empty lists that will store the scores for each metric for each model.\n",
        "accuracy = []\n",
        "F1 = []\n",
        "precision = []\n",
        "recall = []\n",
        "\n",
        "# Simple loop to populate the empty lists with scores of models for each metric.\n",
        "for model in models:\n",
        "    accuracy.append(evaluator_A.evaluate(model))\n",
        "    F1.append(evaluator_F.evaluate(model))\n",
        "    precision.append(evaluator_P.evaluate(model))\n",
        "    recall.append(evaluator_R.evaluate(model))"
      ],
      "metadata": {
        "id": "4yEFDNhG_nQP"
      },
      "execution_count": 34,
      "outputs": []
    },
    {
      "cell_type": "code",
      "source": [
        "# We will convert all lists created above into a dataframe for easy viewing.\n",
        "\n",
        "df_ev = pd.DataFrame(list(zip(accuracy, F1, precision, recall)), \n",
        "                     columns = ['Accuracy', 'F1 score', 'Weighted Precision', 'Weighted Recall'],\n",
        "                     index = ['logistic regression','Decision Tree','Random Forest','Gradient-Boosted Tree','Naive Bayes','Multi layer Perceptron', 'Linear SVM']) "
      ],
      "metadata": {
        "id": "3PBD32UFAq7G"
      },
      "execution_count": 35,
      "outputs": []
    },
    {
      "cell_type": "code",
      "source": [
        "df_ev"
      ],
      "metadata": {
        "colab": {
          "base_uri": "https://localhost:8080/",
          "height": 269
        },
        "id": "fyfV_BFhBv3A",
        "outputId": "a81bd320-3a3e-4fec-9737-19d8fed165a5"
      },
      "execution_count": 36,
      "outputs": [
        {
          "output_type": "execute_result",
          "data": {
            "text/plain": [
              "                        Accuracy  F1 score  Weighted Precision  \\\n",
              "logistic regression     0.662001  0.619186            0.648449   \n",
              "Decision Tree           0.661143  0.605417            0.653502   \n",
              "Random Forest           0.665060  0.617971            0.655393   \n",
              "Gradient-Boosted Tree   0.668371  0.626107            0.658353   \n",
              "Naive Bayes             0.566724  0.573709            0.603820   \n",
              "Multi layer Perceptron  0.662803  0.615668            0.651573   \n",
              "Linear SVM              0.652473  0.616382            0.633081   \n",
              "\n",
              "                        Weighted Recall  \n",
              "logistic regression            0.662001  \n",
              "Decision Tree                  0.661143  \n",
              "Random Forest                  0.665060  \n",
              "Gradient-Boosted Tree          0.668371  \n",
              "Naive Bayes                    0.566724  \n",
              "Multi layer Perceptron         0.662803  \n",
              "Linear SVM                     0.652473  "
            ],
            "text/html": [
              "\n",
              "  <div id=\"df-c7dae3a6-07af-441a-ac1c-dd1f4528c90f\">\n",
              "    <div class=\"colab-df-container\">\n",
              "      <div>\n",
              "<style scoped>\n",
              "    .dataframe tbody tr th:only-of-type {\n",
              "        vertical-align: middle;\n",
              "    }\n",
              "\n",
              "    .dataframe tbody tr th {\n",
              "        vertical-align: top;\n",
              "    }\n",
              "\n",
              "    .dataframe thead th {\n",
              "        text-align: right;\n",
              "    }\n",
              "</style>\n",
              "<table border=\"1\" class=\"dataframe\">\n",
              "  <thead>\n",
              "    <tr style=\"text-align: right;\">\n",
              "      <th></th>\n",
              "      <th>Accuracy</th>\n",
              "      <th>F1 score</th>\n",
              "      <th>Weighted Precision</th>\n",
              "      <th>Weighted Recall</th>\n",
              "    </tr>\n",
              "  </thead>\n",
              "  <tbody>\n",
              "    <tr>\n",
              "      <th>logistic regression</th>\n",
              "      <td>0.662001</td>\n",
              "      <td>0.619186</td>\n",
              "      <td>0.648449</td>\n",
              "      <td>0.662001</td>\n",
              "    </tr>\n",
              "    <tr>\n",
              "      <th>Decision Tree</th>\n",
              "      <td>0.661143</td>\n",
              "      <td>0.605417</td>\n",
              "      <td>0.653502</td>\n",
              "      <td>0.661143</td>\n",
              "    </tr>\n",
              "    <tr>\n",
              "      <th>Random Forest</th>\n",
              "      <td>0.665060</td>\n",
              "      <td>0.617971</td>\n",
              "      <td>0.655393</td>\n",
              "      <td>0.665060</td>\n",
              "    </tr>\n",
              "    <tr>\n",
              "      <th>Gradient-Boosted Tree</th>\n",
              "      <td>0.668371</td>\n",
              "      <td>0.626107</td>\n",
              "      <td>0.658353</td>\n",
              "      <td>0.668371</td>\n",
              "    </tr>\n",
              "    <tr>\n",
              "      <th>Naive Bayes</th>\n",
              "      <td>0.566724</td>\n",
              "      <td>0.573709</td>\n",
              "      <td>0.603820</td>\n",
              "      <td>0.566724</td>\n",
              "    </tr>\n",
              "    <tr>\n",
              "      <th>Multi layer Perceptron</th>\n",
              "      <td>0.662803</td>\n",
              "      <td>0.615668</td>\n",
              "      <td>0.651573</td>\n",
              "      <td>0.662803</td>\n",
              "    </tr>\n",
              "    <tr>\n",
              "      <th>Linear SVM</th>\n",
              "      <td>0.652473</td>\n",
              "      <td>0.616382</td>\n",
              "      <td>0.633081</td>\n",
              "      <td>0.652473</td>\n",
              "    </tr>\n",
              "  </tbody>\n",
              "</table>\n",
              "</div>\n",
              "      <button class=\"colab-df-convert\" onclick=\"convertToInteractive('df-c7dae3a6-07af-441a-ac1c-dd1f4528c90f')\"\n",
              "              title=\"Convert this dataframe to an interactive table.\"\n",
              "              style=\"display:none;\">\n",
              "        \n",
              "  <svg xmlns=\"http://www.w3.org/2000/svg\" height=\"24px\"viewBox=\"0 0 24 24\"\n",
              "       width=\"24px\">\n",
              "    <path d=\"M0 0h24v24H0V0z\" fill=\"none\"/>\n",
              "    <path d=\"M18.56 5.44l.94 2.06.94-2.06 2.06-.94-2.06-.94-.94-2.06-.94 2.06-2.06.94zm-11 1L8.5 8.5l.94-2.06 2.06-.94-2.06-.94L8.5 2.5l-.94 2.06-2.06.94zm10 10l.94 2.06.94-2.06 2.06-.94-2.06-.94-.94-2.06-.94 2.06-2.06.94z\"/><path d=\"M17.41 7.96l-1.37-1.37c-.4-.4-.92-.59-1.43-.59-.52 0-1.04.2-1.43.59L10.3 9.45l-7.72 7.72c-.78.78-.78 2.05 0 2.83L4 21.41c.39.39.9.59 1.41.59.51 0 1.02-.2 1.41-.59l7.78-7.78 2.81-2.81c.8-.78.8-2.07 0-2.86zM5.41 20L4 18.59l7.72-7.72 1.47 1.35L5.41 20z\"/>\n",
              "  </svg>\n",
              "      </button>\n",
              "      \n",
              "  <style>\n",
              "    .colab-df-container {\n",
              "      display:flex;\n",
              "      flex-wrap:wrap;\n",
              "      gap: 12px;\n",
              "    }\n",
              "\n",
              "    .colab-df-convert {\n",
              "      background-color: #E8F0FE;\n",
              "      border: none;\n",
              "      border-radius: 50%;\n",
              "      cursor: pointer;\n",
              "      display: none;\n",
              "      fill: #1967D2;\n",
              "      height: 32px;\n",
              "      padding: 0 0 0 0;\n",
              "      width: 32px;\n",
              "    }\n",
              "\n",
              "    .colab-df-convert:hover {\n",
              "      background-color: #E2EBFA;\n",
              "      box-shadow: 0px 1px 2px rgba(60, 64, 67, 0.3), 0px 1px 3px 1px rgba(60, 64, 67, 0.15);\n",
              "      fill: #174EA6;\n",
              "    }\n",
              "\n",
              "    [theme=dark] .colab-df-convert {\n",
              "      background-color: #3B4455;\n",
              "      fill: #D2E3FC;\n",
              "    }\n",
              "\n",
              "    [theme=dark] .colab-df-convert:hover {\n",
              "      background-color: #434B5C;\n",
              "      box-shadow: 0px 1px 3px 1px rgba(0, 0, 0, 0.15);\n",
              "      filter: drop-shadow(0px 1px 2px rgba(0, 0, 0, 0.3));\n",
              "      fill: #FFFFFF;\n",
              "    }\n",
              "  </style>\n",
              "\n",
              "      <script>\n",
              "        const buttonEl =\n",
              "          document.querySelector('#df-c7dae3a6-07af-441a-ac1c-dd1f4528c90f button.colab-df-convert');\n",
              "        buttonEl.style.display =\n",
              "          google.colab.kernel.accessAllowed ? 'block' : 'none';\n",
              "\n",
              "        async function convertToInteractive(key) {\n",
              "          const element = document.querySelector('#df-c7dae3a6-07af-441a-ac1c-dd1f4528c90f');\n",
              "          const dataTable =\n",
              "            await google.colab.kernel.invokeFunction('convertToInteractive',\n",
              "                                                     [key], {});\n",
              "          if (!dataTable) return;\n",
              "\n",
              "          const docLinkHtml = 'Like what you see? Visit the ' +\n",
              "            '<a target=\"_blank\" href=https://colab.research.google.com/notebooks/data_table.ipynb>data table notebook</a>'\n",
              "            + ' to learn more about interactive tables.';\n",
              "          element.innerHTML = '';\n",
              "          dataTable['output_type'] = 'display_data';\n",
              "          await google.colab.output.renderOutput(dataTable, element);\n",
              "          const docLink = document.createElement('div');\n",
              "          docLink.innerHTML = docLinkHtml;\n",
              "          element.appendChild(docLink);\n",
              "        }\n",
              "      </script>\n",
              "    </div>\n",
              "  </div>\n",
              "  "
            ]
          },
          "metadata": {},
          "execution_count": 36
        }
      ]
    },
    {
      "cell_type": "markdown",
      "source": [
        "## Model Selection\n",
        "\n",
        "- #### Our data is not balanced, so in choosing the best model, we must focus on the F1 score. Gradient-Boosted Tree has the highest F1 (0.626283), We chose it as the best model."
      ],
      "metadata": {
        "id": "SC1jsZaSGy48"
      }
    },
    {
      "cell_type": "markdown",
      "source": [
        "## we will try tuning Gradient-Boosted Tree model with the ParamGridBuilder and the CrossValidator"
      ],
      "metadata": {
        "id": "6I9Gko7kIWOo"
      }
    },
    {
      "cell_type": "code",
      "source": [
        "from pyspark.ml.tuning import ParamGridBuilder, CrossValidator\n",
        "\n",
        "paramGrid = (ParamGridBuilder()\n",
        "             .addGrid(gbt.maxDepth, [2, 10])\n",
        "             .addGrid(gbt.maxBins, [20, 30])\n",
        "             .addGrid(gbt.maxIter, [10, 20])\n",
        "             .build())\n",
        "\n",
        "cv = CrossValidator(estimator=gbt, estimatorParamMaps=paramGrid, evaluator=evaluator_F, numFolds=5)\n",
        "\n",
        "# Run cross validations.  \n",
        "# This can take some minutes since it is training over many trees!\n",
        "cvModel = cv.fit(df_train)\n",
        "cvPreds = cvModel.transform(df_test)\n",
        "evaluator_F.evaluate(cvPreds)"
      ],
      "metadata": {
        "colab": {
          "base_uri": "https://localhost:8080/"
        },
        "id": "LeFT3rlYIAqD",
        "outputId": "196d740a-da70-45f1-831d-e7e21ab2c1d5"
      },
      "execution_count": null,
      "outputs": [
        {
          "output_type": "execute_result",
          "data": {
            "text/plain": [
              "0.6258819211953449"
            ]
          },
          "metadata": {},
          "execution_count": 60
        }
      ]
    }
  ]
}